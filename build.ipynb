{
 "cells": [
  {
   "cell_type": "code",
   "execution_count": 1,
   "metadata": {},
   "outputs": [],
   "source": [
    "import core.config as _config\n",
    "_config.IS_DEVELOPMENT_MODE = False\n",
    "\n",
    "import cadquery as cq\n",
    "import core.iso as iso\n",
    "from core.iso import MM\n",
    "from pathlib import Path\n",
    "from turnbuckle import *\n",
    "\n",
    "body_part = body(\n",
    "    take_up_length=100*MM,\n",
    "    thread_diameter=iso.Fdm.M10_INTERNAL,\n",
    "    thread_pitch=iso.Standard.M10_THREAD_PITCH_COARSE,\n",
    "    handle_diameter=20*MM\n",
    ")\n",
    "\n",
    "eye_end_fitting_part_left = eye_end_fitting(\n",
    "    diameter=iso.Fdm.M10_EXTERNAL,\n",
    "    pitch=iso.Standard.M10_THREAD_PITCH_COARSE,\n",
    "    take_up_length=100*MM,\n",
    "    eye_inner_radius=8*MM,\n",
    "    hand='left'\n",
    ").rotateAboutCenter((1, 0, 0), -90)\n",
    "\n",
    "eye_end_fitting_part_right = eye_end_fitting(\n",
    "    diameter=iso.Fdm.M10_EXTERNAL,\n",
    "    pitch=iso.Standard.M10_THREAD_PITCH_COARSE,\n",
    "    take_up_length=100*MM,\n",
    "    eye_inner_radius=8*MM,\n",
    "    hand='right'\n",
    ").rotateAboutCenter((1, 0, 0), -90)\n",
    "\n",
    "format = 'step'\n",
    "build_dir = Path('.') / 'build' / format\n",
    "build_dir.mkdir(parents=True, exist_ok=True)\n",
    "cq.exporters.export(body_part, str(build_dir / f'body.{format}'))\n",
    "cq.exporters.export(eye_end_fitting_part_left, str(build_dir / f'eye_end_fittng_left.{format}'))\n",
    "cq.exporters.export(eye_end_fitting_part_right, str(build_dir / f'eye_end_fittng_right.{format}'))\n"
   ]
  }
 ],
 "metadata": {
  "kernelspec": {
   "display_name": "Python 3",
   "language": "python",
   "name": "python3"
  },
  "language_info": {
   "codemirror_mode": {
    "name": "ipython",
    "version": 3
   },
   "file_extension": ".py",
   "mimetype": "text/x-python",
   "name": "python",
   "nbconvert_exporter": "python",
   "pygments_lexer": "ipython3",
   "version": "3.12.2"
  }
 },
 "nbformat": 4,
 "nbformat_minor": 2
}
