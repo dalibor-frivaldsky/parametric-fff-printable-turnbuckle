{
 "cells": [
  {
   "cell_type": "markdown",
   "metadata": {},
   "source": [
    "### Instructions\n",
    "- if you need to, modify the base turnbuckle and eye end fitting parameters bellow\n",
    "- run the build process by clicking the double arrow ►► above. In the popup, confirm \"Restart Kernel\" by clicking \"Restart\"\n",
    "- the process may take up to a minute or so, messages will inform you about the progress\n",
    "- once finished, the model files will be located in the \"build/step\" directory on the left\n",
    "- download the model files and print according to the **Printing instructions** in the project's README"
   ]
  },
  {
   "cell_type": "code",
   "execution_count": 8,
   "metadata": {},
   "outputs": [],
   "source": [
    "import core.iso as iso\n",
    "from core.iso import MM\n",
    "\n",
    "# Base turnbuckle parameters\n",
    "thread_diameter_external = iso.Fdm.M10_EXTERNAL\n",
    "thread_diameter_internal = iso.Fdm.M10_INTERNAL\n",
    "thread_pitch = iso.Standard.M10_THREAD_PITCH_COARSE\n",
    "take_up_length = 100*MM\n",
    "\n",
    "# Body parameters\n",
    "handle_diameter = 20*MM\n",
    "\n",
    "# Eye end fitting parameters\n",
    "eye_inner_radius = 8*MM"
   ]
  },
  {
   "cell_type": "code",
   "execution_count": null,
   "metadata": {},
   "outputs": [],
   "source": [
    "import core.config as _config\n",
    "_config.IS_DEVELOPMENT_MODE = False\n",
    "\n",
    "import cadquery as cq\n",
    "import timeit\n",
    "from pathlib import Path\n",
    "from turnbuckle import *\n",
    "from typing import Any, Callable\n",
    "\n",
    "\n",
    "def _timeit(fn: Callable) -> Any:\n",
    "    start_time = timeit.default_timer()\n",
    "    part = fn()\n",
    "    elapsed_time = timeit.default_timer() - start_time\n",
    "    print(f'Took: {elapsed_time:.3f}s')\n",
    "    print()\n",
    "    return part\n",
    "\n",
    "print('Building body')\n",
    "body_part = _timeit(lambda: body(\n",
    "    take_up_length=take_up_length,\n",
    "    thread_diameter=thread_diameter_internal,\n",
    "    thread_pitch=thread_pitch,\n",
    "    handle_diameter=handle_diameter\n",
    "))\n",
    "\n",
    "print('Building left-threaded eye end fitting')\n",
    "eye_end_fitting_part_left = _timeit(lambda:eye_end_fitting(\n",
    "    diameter=thread_diameter_external,\n",
    "    pitch=thread_pitch,\n",
    "    take_up_length=take_up_length,\n",
    "    eye_inner_radius=eye_inner_radius,\n",
    "    hand='left'\n",
    ").rotateAboutCenter((1, 0, 0), -90))\n",
    "\n",
    "print('Building right-threaded eye end fitting')\n",
    "eye_end_fitting_part_right = _timeit(lambda: eye_end_fitting(\n",
    "    diameter=thread_diameter_external,\n",
    "    pitch=thread_pitch,\n",
    "    take_up_length=take_up_length,\n",
    "    eye_inner_radius=eye_inner_radius,\n",
    "    hand='right'\n",
    ").rotateAboutCenter((1, 0, 0), -90))\n",
    "\n",
    "model_format = 'step'\n",
    "build_dir = Path('.') / 'build' / model_format\n",
    "build_dir.mkdir(parents=True, exist_ok=True)\n",
    "cq.exporters.export(body_part, str(build_dir / f'body.{model_format}'))\n",
    "cq.exporters.export(eye_end_fitting_part_left, str(build_dir / f'eye_end_fittng_left.{model_format}'))\n",
    "cq.exporters.export(eye_end_fitting_part_right, str(build_dir / f'eye_end_fittng_right.{model_format}'))\n"
   ]
  }
 ],
 "metadata": {
  "kernelspec": {
   "display_name": "Python 3",
   "language": "python",
   "name": "python3"
  },
  "language_info": {
   "codemirror_mode": {
    "name": "ipython",
    "version": 3
   },
   "file_extension": ".py",
   "mimetype": "text/x-python",
   "name": "python",
   "nbconvert_exporter": "python",
   "pygments_lexer": "ipython3",
   "version": "3.12.2"
  }
 },
 "nbformat": 4,
 "nbformat_minor": 2
}
